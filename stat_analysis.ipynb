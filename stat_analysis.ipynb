{
 "cells": [
  {
   "cell_type": "code",
   "execution_count": 14,
   "metadata": {},
   "outputs": [],
   "source": [
    "import polars\n",
    "\n",
    "df = polars.read_csv(\"./data/Trade_DetailedTradeMatrix.csv\", encoding='latin-1')"
   ]
  },
  {
   "attachments": {},
   "cell_type": "markdown",
   "metadata": {},
   "source": [
    "This is the part where we analyze the data."
   ]
  },
  {
   "cell_type": "code",
   "execution_count": 61,
   "metadata": {},
   "outputs": [
    {
     "data": {
      "application/vnd.jupyter.widget-view+json": {
       "model_id": "e21b7836420f4d51ada4a176bc11ab35",
       "version_major": 2,
       "version_minor": 0
      },
      "text/plain": [
       "FloatProgress(value=0.0, layout=Layout(width='auto'), style=ProgressStyle(bar_color='black'))"
      ]
     },
     "metadata": {},
     "output_type": "display_data"
    },
    {
     "data": {
      "text/plain": [
       "┌──────────────────────────────────────────────────────┬───────┐\n",
       "│                  Reporter Countries                  │   n   │\n",
       "│                       varchar                        │ int64 │\n",
       "├──────────────────────────────────────────────────────┼───────┤\n",
       "│ Germany                                              │ 11444 │\n",
       "│ Canada                                               │ 10092 │\n",
       "│ France                                               │  9893 │\n",
       "│ Netherlands                                          │  9513 │\n",
       "│ Switzerland                                          │  9373 │\n",
       "│ United Kingdom of Great Britain and Northern Ireland │  9046 │\n",
       "│ United Arab Emirates                                 │  8657 │\n",
       "│ Italy                                                │  8223 │\n",
       "│ United States of America                             │  8220 │\n",
       "│ Spain                                                │  7670 │\n",
       "│   ·                                                  │    ·  │\n",
       "│   ·                                                  │    ·  │\n",
       "│   ·                                                  │    ·  │\n",
       "│ Sao Tome and Principe                                │   583 │\n",
       "│ Comoros                                              │   537 │\n",
       "│ Faroe Islands                                        │   513 │\n",
       "│ Solomon Islands                                      │   512 │\n",
       "│ Dominica                                             │   508 │\n",
       "│ Cook Islands                                         │   470 │\n",
       "│ Tonga                                                │   439 │\n",
       "│ Central African Republic                             │   232 │\n",
       "│ Tuvalu                                               │   228 │\n",
       "│ Bhutan                                               │   144 │\n",
       "├──────────────────────────────────────────────────────┴───────┤\n",
       "│ 170 rows (20 shown)                                2 columns │\n",
       "└──────────────────────────────────────────────────────────────┘"
      ]
     },
     "execution_count": 61,
     "metadata": {},
     "output_type": "execute_result"
    }
   ],
   "source": [
    "import duckdb\n",
    "\n",
    "duckdb.sql('''\n",
    "    select distinct \\\"Reporter Countries\\\",\n",
    "        count (\\\"Reporter Countries\\\") as n\n",
    "        from \\'./data/cleandata.csv\\'\n",
    "        where Year = 2015 and\n",
    "        Element = 'Import Quantity' and\n",
    "        Unit = 'tonnes'\n",
    "        group by \\\"Reporter Countries\\\"\n",
    "        order by n desc;\n",
    "''')"
   ]
  }
 ],
 "metadata": {
  "kernelspec": {
   "display_name": "Python 3",
   "language": "python",
   "name": "python3"
  },
  "language_info": {
   "codemirror_mode": {
    "name": "ipython",
    "version": 3
   },
   "file_extension": ".py",
   "mimetype": "text/x-python",
   "name": "python",
   "nbconvert_exporter": "python",
   "pygments_lexer": "ipython3",
   "version": "3.10.5"
  },
  "orig_nbformat": 4
 },
 "nbformat": 4,
 "nbformat_minor": 2
}
