{
 "cells": [
  {
   "cell_type": "code",
   "execution_count": 1,
   "metadata": {},
   "outputs": [],
   "source": [
    "import polars\n",
    "\n",
    "df = polars.read_csv(\"./data/Trade_DetailedTradeMatrix.csv\", encoding='latin-1')"
   ]
  },
  {
   "cell_type": "code",
   "execution_count": 59,
   "metadata": {},
   "outputs": [
    {
     "name": "stdout",
     "output_type": "stream",
     "text": [
      "Reporter_Country_Code\n",
      "Reporter_Country_Code_(M49)\n",
      "Reporter_Countries\n",
      "Partner_Country_Code\n",
      "Partner_Country_Code_(M49)\n",
      "Partner_Countries\n",
      "Item_Code\n",
      "Item_Code_(CPC)\n",
      "Item\n",
      "Element_Code\n",
      "Element\n",
      "Year_Code\n",
      "Year\n",
      "Unit\n",
      "Value\n",
      "Flag\n"
     ]
    }
   ],
   "source": [
    "colnames = []\n",
    "for i in df.columns:\n",
    "    i = i.replace(\" \", \"_\")\n",
    "    colnames.append(i)\n",
    "\n",
    "df.columns = colnames"
   ]
  },
  {
   "attachments": {},
   "cell_type": "markdown",
   "metadata": {},
   "source": [
    "This is the part where we analyze the data."
   ]
  },
  {
   "cell_type": "code",
   "execution_count": 120,
   "metadata": {},
   "outputs": [
    {
     "data": {
      "text/html": [
       "<div><style>\n",
       ".dataframe > thead > tr > th,\n",
       ".dataframe > tbody > tr > td {\n",
       "  text-align: right;\n",
       "}\n",
       "</style>\n",
       "<small>shape: (3, 3)</small><table border=\"1\" class=\"dataframe\"><thead><tr><th>Partner_Countries</th><th>trade_quantity</th><th>dep_ratio</th></tr><tr><td>str</td><td>f64</td><td>f64</td></tr></thead><tbody><tr><td>&quot;Ecuador&quot;</td><td>95247.0</td><td>0.64</td></tr><tr><td>&quot;India&quot;</td><td>27022.2</td><td>0.18</td></tr><tr><td>&quot;Philippines&quot;</td><td>23342.0</td><td>0.16</td></tr></tbody></table></div>"
      ],
      "text/plain": [
       "shape: (3, 3)\n",
       "┌───────────────────┬────────────────┬───────────┐\n",
       "│ Partner_Countries ┆ trade_quantity ┆ dep_ratio │\n",
       "│ ---               ┆ ---            ┆ ---       │\n",
       "│ str               ┆ f64            ┆ f64       │\n",
       "╞═══════════════════╪════════════════╪═══════════╡\n",
       "│ Ecuador           ┆ 95247.0        ┆ 0.64      │\n",
       "│ India             ┆ 27022.2        ┆ 0.18      │\n",
       "│ Philippines       ┆ 23342.0        ┆ 0.16      │\n",
       "└───────────────────┴────────────────┴───────────┘"
      ]
     },
     "execution_count": 120,
     "metadata": {},
     "output_type": "execute_result"
    }
   ],
   "source": [
    "import duckdb\n",
    "\n",
    "def item_dependency(country, year, item, threshold):\n",
    "    query = '''\n",
    "    select Partner_Countries,\n",
    "        sum(Value) as trade_quantity,\n",
    "        round(trade_quantity /\n",
    "        (\n",
    "            select\n",
    "                sum(Value)\n",
    "            from df\n",
    "            where Year = {year}\n",
    "            and Reporter_Countries = '{country}'\n",
    "            and Item = '{item}'\n",
    "            and Element = 'Import Quantity'\n",
    "        ), 2) as dep_ratio\n",
    "    from df\n",
    "    where Year = {year}\n",
    "    and Reporter_Countries = '{country}'\n",
    "    and Element = 'Import Quantity'\n",
    "    and Item = '{item}'\n",
    "    and Value > 0\n",
    "    group by Partner_Countries\n",
    "    having dep_ratio >= {threshold}\n",
    "    order by dep_ratio desc; \n",
    "'''.format(item = item, country = country, year = year, threshold = threshold)\n",
    "    \n",
    "    return duckdb.sql(query).pl()\n",
    "\n",
    "item_dependency('United Arab Emirates', 2021, 'Bananas', 0.05)"
   ]
  }
 ],
 "metadata": {
  "kernelspec": {
   "display_name": "Python 3",
   "language": "python",
   "name": "python3"
  },
  "language_info": {
   "codemirror_mode": {
    "name": "ipython",
    "version": 3
   },
   "file_extension": ".py",
   "mimetype": "text/x-python",
   "name": "python",
   "nbconvert_exporter": "python",
   "pygments_lexer": "ipython3",
   "version": "3.10.5"
  },
  "orig_nbformat": 4
 },
 "nbformat": 4,
 "nbformat_minor": 2
}
