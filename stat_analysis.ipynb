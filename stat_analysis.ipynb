{
 "cells": [
  {
   "cell_type": "code",
   "execution_count": 14,
   "metadata": {},
   "outputs": [],
   "source": [
    "import polars\n",
    "\n",
    "df = polars.read_csv(\"./data/Trade_DetailedTradeMatrix.csv\", encoding='latin-1')"
   ]
  },
  {
   "cell_type": "code",
   "execution_count": 15,
   "metadata": {},
   "outputs": [
    {
     "data": {
      "text/html": [
       "<div><style>\n",
       ".dataframe > thead > tr > th,\n",
       ".dataframe > tbody > tr > td {\n",
       "  text-align: right;\n",
       "}\n",
       "</style>\n",
       "<small>shape: (9, 17)</small><table border=\"1\" class=\"dataframe\"><thead><tr><th>describe</th><th>Reporter Country Code</th><th>Reporter Country Code (M49)</th><th>Reporter Countries</th><th>Partner Country Code</th><th>Partner Country Code (M49)</th><th>Partner Countries</th><th>Item Code</th><th>Item Code (CPC)</th><th>Item</th><th>Element Code</th><th>Element</th><th>Year Code</th><th>Year</th><th>Unit</th><th>Value</th><th>Flag</th></tr><tr><td>str</td><td>f64</td><td>str</td><td>str</td><td>f64</td><td>str</td><td>str</td><td>f64</td><td>str</td><td>str</td><td>f64</td><td>str</td><td>f64</td><td>f64</td><td>str</td><td>f64</td><td>str</td></tr></thead><tbody><tr><td>&quot;count&quot;</td><td>4.6508259e7</td><td>&quot;46508259&quot;</td><td>&quot;46508259&quot;</td><td>4.6508259e7</td><td>&quot;46508259&quot;</td><td>&quot;46508259&quot;</td><td>4.6508259e7</td><td>&quot;46508259&quot;</td><td>&quot;46508259&quot;</td><td>4.6508259e7</td><td>&quot;46508259&quot;</td><td>4.6508259e7</td><td>4.6508259e7</td><td>&quot;46508259&quot;</td><td>4.6508259e7</td><td>&quot;46508259&quot;</td></tr><tr><td>&quot;null_count&quot;</td><td>0.0</td><td>&quot;0&quot;</td><td>&quot;0&quot;</td><td>0.0</td><td>&quot;0&quot;</td><td>&quot;0&quot;</td><td>0.0</td><td>&quot;0&quot;</td><td>&quot;0&quot;</td><td>0.0</td><td>&quot;0&quot;</td><td>0.0</td><td>0.0</td><td>&quot;0&quot;</td><td>0.0</td><td>&quot;0&quot;</td></tr><tr><td>&quot;mean&quot;</td><td>132.572986</td><td>null</td><td>null</td><td>132.461901</td><td>null</td><td>null</td><td>559.501377</td><td>null</td><td>null</td><td>5765.099633</td><td>null</td><td>2008.015594</td><td>2008.015594</td><td>null</td><td>3238.978293</td><td>null</td></tr><tr><td>&quot;std&quot;</td><td>72.451384</td><td>null</td><td>null</td><td>73.075362</td><td>null</td><td>null</td><td>353.022658</td><td>null</td><td>null</td><td>150.115357</td><td>null</td><td>9.401291</td><td>9.401291</td><td>null</td><td>522433.35325</td><td>null</td></tr><tr><td>&quot;min&quot;</td><td>1.0</td><td>&quot;&#x27;004&quot;</td><td>&quot;Afghanistan&quot;</td><td>1.0</td><td>&quot;&#x27;004&quot;</td><td>&quot;Afghanistan&quot;</td><td>15.0</td><td>&quot;&#x27;0111&quot;</td><td>&quot;Abaca, manila …</td><td>5607.0</td><td>&quot;Export Quantit…</td><td>1986.0</td><td>1986.0</td><td>&quot;1000 Head&quot;</td><td>0.0</td><td>&quot;A&quot;</td></tr><tr><td>&quot;max&quot;</td><td>273.0</td><td>&quot;&#x27;894&quot;</td><td>&quot;Zimbabwe&quot;</td><td>299.0</td><td>&quot;&#x27;894&quot;</td><td>&quot;Zimbabwe&quot;</td><td>1296.0</td><td>&quot;&#x27;F1293&quot;</td><td>&quot;hydrogenated o…</td><td>5922.0</td><td>&quot;Import Value&quot;</td><td>2021.0</td><td>2021.0</td><td>&quot;tonnes&quot;</td><td>2.5795e9</td><td>&quot;T&quot;</td></tr><tr><td>&quot;median&quot;</td><td>131.0</td><td>null</td><td>null</td><td>126.0</td><td>null</td><td>null</td><td>562.0</td><td>null</td><td>null</td><td>5622.0</td><td>null</td><td>2009.0</td><td>2009.0</td><td>null</td><td>21.0</td><td>null</td></tr><tr><td>&quot;25%&quot;</td><td>68.0</td><td>null</td><td>null</td><td>68.0</td><td>null</td><td>null</td><td>246.0</td><td>null</td><td>null</td><td>5610.0</td><td>null</td><td>2001.0</td><td>2001.0</td><td>null</td><td>2.0</td><td>null</td></tr><tr><td>&quot;75%&quot;</td><td>202.0</td><td>null</td><td>null</td><td>202.0</td><td>null</td><td>null</td><td>828.0</td><td>null</td><td>null</td><td>5910.0</td><td>null</td><td>2016.0</td><td>2016.0</td><td>null</td><td>211.0</td><td>null</td></tr></tbody></table></div>"
      ],
      "text/plain": [
       "shape: (9, 17)\n",
       "┌──────────┬────────────┬────────────┬────────────┬───┬──────────┬───────────┬──────────┬──────────┐\n",
       "│ describe ┆ Reporter   ┆ Reporter   ┆ Reporter   ┆ … ┆ Year     ┆ Unit      ┆ Value    ┆ Flag     │\n",
       "│ ---      ┆ Country    ┆ Country    ┆ Countries  ┆   ┆ ---      ┆ ---       ┆ ---      ┆ ---      │\n",
       "│ str      ┆ Code       ┆ Code (M49) ┆ ---        ┆   ┆ f64      ┆ str       ┆ f64      ┆ str      │\n",
       "│          ┆ ---        ┆ ---        ┆ str        ┆   ┆          ┆           ┆          ┆          │\n",
       "│          ┆ f64        ┆ str        ┆            ┆   ┆          ┆           ┆          ┆          │\n",
       "╞══════════╪════════════╪════════════╪════════════╪═══╪══════════╪═══════════╪══════════╪══════════╡\n",
       "│ count    ┆ 4.6508259e ┆ 46508259   ┆ 46508259   ┆ … ┆ 4.650825 ┆ 46508259  ┆ 4.650825 ┆ 46508259 │\n",
       "│          ┆ 7          ┆            ┆            ┆   ┆ 9e7      ┆           ┆ 9e7      ┆          │\n",
       "│ null_cou ┆ 0.0        ┆ 0          ┆ 0          ┆ … ┆ 0.0      ┆ 0         ┆ 0.0      ┆ 0        │\n",
       "│ nt       ┆            ┆            ┆            ┆   ┆          ┆           ┆          ┆          │\n",
       "│ mean     ┆ 132.572986 ┆ null       ┆ null       ┆ … ┆ 2008.015 ┆ null      ┆ 3238.978 ┆ null     │\n",
       "│          ┆            ┆            ┆            ┆   ┆ 594      ┆           ┆ 293      ┆          │\n",
       "│ std      ┆ 72.451384  ┆ null       ┆ null       ┆ … ┆ 9.401291 ┆ null      ┆ 522433.3 ┆ null     │\n",
       "│          ┆            ┆            ┆            ┆   ┆          ┆           ┆ 5325     ┆          │\n",
       "│ min      ┆ 1.0        ┆ '004       ┆ Afghanista ┆ … ┆ 1986.0   ┆ 1000 Head ┆ 0.0      ┆ A        │\n",
       "│          ┆            ┆            ┆ n          ┆   ┆          ┆           ┆          ┆          │\n",
       "│ max      ┆ 273.0      ┆ '894       ┆ Zimbabwe   ┆ … ┆ 2021.0   ┆ tonnes    ┆ 2.5795e9 ┆ T        │\n",
       "│ median   ┆ 131.0      ┆ null       ┆ null       ┆ … ┆ 2009.0   ┆ null      ┆ 21.0     ┆ null     │\n",
       "│ 25%      ┆ 68.0       ┆ null       ┆ null       ┆ … ┆ 2001.0   ┆ null      ┆ 2.0      ┆ null     │\n",
       "│ 75%      ┆ 202.0      ┆ null       ┆ null       ┆ … ┆ 2016.0   ┆ null      ┆ 211.0    ┆ null     │\n",
       "└──────────┴────────────┴────────────┴────────────┴───┴──────────┴───────────┴──────────┴──────────┘"
      ]
     },
     "execution_count": 15,
     "metadata": {},
     "output_type": "execute_result"
    }
   ],
   "source": [
    "df.describe()"
   ]
  }
 ],
 "metadata": {
  "kernelspec": {
   "display_name": "Python 3",
   "language": "python",
   "name": "python3"
  },
  "language_info": {
   "codemirror_mode": {
    "name": "ipython",
    "version": 3
   },
   "file_extension": ".py",
   "mimetype": "text/x-python",
   "name": "python",
   "nbconvert_exporter": "python",
   "pygments_lexer": "ipython3",
   "version": "3.10.5"
  },
  "orig_nbformat": 4
 },
 "nbformat": 4,
 "nbformat_minor": 2
}
