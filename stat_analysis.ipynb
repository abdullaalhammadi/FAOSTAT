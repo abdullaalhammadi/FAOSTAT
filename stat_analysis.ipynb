{
 "cells": [
  {
   "cell_type": "code",
   "execution_count": 1,
   "metadata": {},
   "outputs": [],
   "source": [
    "import polars\n",
    "\n",
    "df = polars.read_csv(\"./data/Trade_DetailedTradeMatrix.csv\", encoding='latin-1')"
   ]
  },
  {
   "cell_type": "code",
   "execution_count": 16,
   "metadata": {},
   "outputs": [
    {
     "name": "stdout",
     "output_type": "stream",
     "text": [
      "Reporter_Country_Code\n",
      "Reporter_Country_Code_(M49)\n",
      "Reporter_Countries\n",
      "Partner_Country_Code\n",
      "Partner_Country_Code_(M49)\n",
      "Partner_Countries\n",
      "Item_Code\n",
      "Item_Code_(CPC)\n",
      "Item\n",
      "Element_Code\n",
      "Element\n",
      "Year_Code\n",
      "Year\n",
      "Unit\n",
      "Value\n",
      "Flag\n"
     ]
    }
   ],
   "source": [
    "colnames = []\n",
    "for i in df.columns:\n",
    "    i = i.replace(\" \", \"_\")\n",
    "    colnames.append(i)\n",
    "    print(i)\n",
    "\n",
    "df.columns = colnames"
   ]
  },
  {
   "attachments": {},
   "cell_type": "markdown",
   "metadata": {},
   "source": [
    "This is the part where we analyze the data."
   ]
  },
  {
   "cell_type": "code",
   "execution_count": 46,
   "metadata": {},
   "outputs": [
    {
     "data": {
      "text/plain": [
       "┌─────────────┐\n",
       "│     tot     │\n",
       "│   double    │\n",
       "├─────────────┤\n",
       "│ 17213036.22 │\n",
       "└─────────────┘"
      ]
     },
     "execution_count": 46,
     "metadata": {},
     "output_type": "execute_result"
    }
   ],
   "source": [
    "import duckdb\n",
    "\n",
    "duckdb.sql('''\n",
    "    select\n",
    "        round(sum(Value), 2) as tot\n",
    "        from df\n",
    "        where Year = 2019\n",
    "        and Reporter_Countries = 'United Arab Emirates' and\n",
    "        Element = 'Import Quantity';\n",
    "''')"
   ]
  },
  {
   "cell_type": "code",
   "execution_count": 57,
   "metadata": {},
   "outputs": [],
   "source": [
    "import duckdb\n",
    "import polars\n",
    "\n",
    "duckdb.sql('''\n",
    "    select Partner_Countries,\n",
    "        sum(Value) as trade_value,\n",
    "        round(trade_value /\n",
    "        (\n",
    "            select\n",
    "                sum(Value)\n",
    "            from df\n",
    "            where Year = 2019\n",
    "            and Reporter_Countries = 'United Arab Emirates' and\n",
    "            Element = 'Import Quantity'\n",
    "        ), 2) as dep_ratio\n",
    "    from df\n",
    "    where Year = 2019\n",
    "    and Reporter_Countries = 'United Arab Emirates'\n",
    "    and Element = 'Import Value'\n",
    "    and Value > 0\n",
    "    group by Partner_Countries\n",
    "    having dep_ratio >= 0.05\n",
    "    order by trade_value desc;\n",
    "''').pl()"
   ]
  }
 ],
 "metadata": {
  "kernelspec": {
   "display_name": "Python 3",
   "language": "python",
   "name": "python3"
  },
  "language_info": {
   "codemirror_mode": {
    "name": "ipython",
    "version": 3
   },
   "file_extension": ".py",
   "mimetype": "text/x-python",
   "name": "python",
   "nbconvert_exporter": "python",
   "pygments_lexer": "ipython3",
   "version": "3.10.5"
  },
  "orig_nbformat": 4
 },
 "nbformat": 4,
 "nbformat_minor": 2
}
