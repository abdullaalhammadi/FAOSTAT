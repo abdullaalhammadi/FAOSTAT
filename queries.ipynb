{
 "cells": [
  {
   "cell_type": "code",
   "execution_count": 2,
   "metadata": {},
   "outputs": [],
   "source": [
    "import pandas as pd\n",
    "\n",
    "df = pd.read_csv(\"./data/Trade_DetailedTradeMatrix.csv\", encoding='latin-1')"
   ]
  },
  {
   "cell_type": "code",
   "execution_count": 3,
   "metadata": {},
   "outputs": [],
   "source": [
    "colnames = []\n",
    "for i in df.columns:\n",
    "    i = i.replace(\" \", \"_\")\n",
    "    colnames.append(i)\n",
    "\n",
    "df.columns = colnames"
   ]
  },
  {
   "attachments": {},
   "cell_type": "markdown",
   "metadata": {},
   "source": [
    "This is the part where we analyze the data."
   ]
  },
  {
   "cell_type": "code",
   "execution_count": 4,
   "metadata": {},
   "outputs": [
    {
     "data": {
      "text/html": [
       "<div>\n",
       "<style scoped>\n",
       "    .dataframe tbody tr th:only-of-type {\n",
       "        vertical-align: middle;\n",
       "    }\n",
       "\n",
       "    .dataframe tbody tr th {\n",
       "        vertical-align: top;\n",
       "    }\n",
       "\n",
       "    .dataframe thead th {\n",
       "        text-align: right;\n",
       "    }\n",
       "</style>\n",
       "<table border=\"1\" class=\"dataframe\">\n",
       "  <thead>\n",
       "    <tr style=\"text-align: right;\">\n",
       "      <th></th>\n",
       "      <th>Partner_Countries</th>\n",
       "      <th>trade_quantity</th>\n",
       "      <th>dep_ratio</th>\n",
       "    </tr>\n",
       "  </thead>\n",
       "  <tbody>\n",
       "    <tr>\n",
       "      <th>0</th>\n",
       "      <td>India</td>\n",
       "      <td>436264.45</td>\n",
       "      <td>0.31</td>\n",
       "    </tr>\n",
       "    <tr>\n",
       "      <th>1</th>\n",
       "      <td>Russian Federation</td>\n",
       "      <td>288637.00</td>\n",
       "      <td>0.20</td>\n",
       "    </tr>\n",
       "    <tr>\n",
       "      <th>2</th>\n",
       "      <td>Australia</td>\n",
       "      <td>241280.00</td>\n",
       "      <td>0.17</td>\n",
       "    </tr>\n",
       "    <tr>\n",
       "      <th>3</th>\n",
       "      <td>Canada</td>\n",
       "      <td>209260.10</td>\n",
       "      <td>0.15</td>\n",
       "    </tr>\n",
       "    <tr>\n",
       "      <th>4</th>\n",
       "      <td>Romania</td>\n",
       "      <td>156790.00</td>\n",
       "      <td>0.11</td>\n",
       "    </tr>\n",
       "  </tbody>\n",
       "</table>\n",
       "</div>"
      ],
      "text/plain": [
       "    Partner_Countries  trade_quantity  dep_ratio\n",
       "0               India       436264.45       0.31\n",
       "1  Russian Federation       288637.00       0.20\n",
       "2           Australia       241280.00       0.17\n",
       "3              Canada       209260.10       0.15\n",
       "4             Romania       156790.00       0.11"
      ]
     },
     "execution_count": 4,
     "metadata": {},
     "output_type": "execute_result"
    }
   ],
   "source": [
    "import duckdb\n",
    "\n",
    "def dependency(country, year, item, threshold):\n",
    "    query = '''\n",
    "    select Partner_Countries,\n",
    "        sum(Value) as trade_quantity,\n",
    "        round(trade_quantity /\n",
    "        (\n",
    "            select\n",
    "                sum(Value)\n",
    "            from df\n",
    "            where Year = {year}\n",
    "            and Reporter_Countries = '{country}'\n",
    "            and Item = '{item}'\n",
    "            and Element = 'Import Quantity'\n",
    "        ), 2) as dep_ratio\n",
    "    from df\n",
    "    where Year = {year}\n",
    "    and Reporter_Countries = '{country}'\n",
    "    and Element = 'Import Quantity'\n",
    "    and Item = '{item}'\n",
    "    and Value > 0\n",
    "    group by Partner_Countries\n",
    "    having dep_ratio >= {threshold}\n",
    "    order by dep_ratio desc; \n",
    "'''.format(item = item, country = country, year = year, threshold = threshold)\n",
    "    \n",
    "    return duckdb.sql(query).fetchdf()\n",
    "\n",
    "dependency('United Arab Emirates', 2021, 'Wheat', 0.05)"
   ]
  },
  {
   "cell_type": "code",
   "execution_count": 8,
   "metadata": {},
   "outputs": [],
   "source": [
    "exp = duckdb.query('''\n",
    "select Partner_Countries,\n",
    "            sum(Value) as trade\n",
    "        from df\n",
    "        where Year = 2019\n",
    "        and Reporter_Countries = 'India'\n",
    "        and Element = 'Export Quantity'\n",
    "        and Item = 'Rice'\n",
    "        and Value > 0\n",
    "        group by Partner_Countries\n",
    "        order by trade desc;\n",
    "''').fetchdf()\n",
    "\n",
    "imp = duckdb.query('''\n",
    "    select Reporter_Countries,\n",
    "        sum(Value) as imports\n",
    "    from df\n",
    "    where Year = 2019\n",
    "    and Element = 'Import Quantity'\n",
    "    and Item = 'Rice'\n",
    "    and Value > 0\n",
    "    group by Reporter_Countries\n",
    "    order by imports desc;\n",
    "''').fetchdf()"
   ]
  }
 ],
 "metadata": {
  "kernelspec": {
   "display_name": "Python 3",
   "language": "python",
   "name": "python3"
  },
  "language_info": {
   "codemirror_mode": {
    "name": "ipython",
    "version": 3
   },
   "file_extension": ".py",
   "mimetype": "text/x-python",
   "name": "python",
   "nbconvert_exporter": "python",
   "pygments_lexer": "ipython3",
   "version": "3.10.5"
  },
  "orig_nbformat": 4
 },
 "nbformat": 4,
 "nbformat_minor": 2
}
